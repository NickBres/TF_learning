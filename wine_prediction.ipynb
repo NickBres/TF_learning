{
 "cells": [
  {
   "cell_type": "code",
   "execution_count": 11,
   "id": "initial_id",
   "metadata": {
    "collapsed": true,
    "ExecuteTime": {
     "end_time": "2024-01-29T17:12:04.695523Z",
     "start_time": "2024-01-29T17:12:04.691370Z"
    }
   },
   "outputs": [],
   "source": [
    "# Load libraries\n",
    "import numpy as np # linear algebra\n",
    "import pandas as pd # data processing, CSV file I/O (e.g. pd.read_csv)\n",
    "import matplotlib.pyplot as plt # Visualization\n",
    "\n",
    "import tensorflow as tf # Deep Learning\n",
    "import tensorflow_hub as hub\n",
    " "
   ]
  },
  {
   "cell_type": "code",
   "outputs": [
    {
     "data": {
      "text/plain": "    country                                        description  points  price  \\\n0     Italy  Aromas include tropical fruit, broom, brimston...      87    NaN   \n1  Portugal  This is ripe and fruity, a wine that is smooth...      87   15.0   \n2        US  Tart and snappy, the flavors of lime flesh and...      87   14.0   \n3        US  Pineapple rind, lemon pith and orange blossom ...      87   13.0   \n4        US  Much like the regular bottling from 2012, this...      87   65.0   \n\n          variety               winery  \n0     White Blend              Nicosia  \n1  Portuguese Red  Quinta dos Avidagos  \n2      Pinot Gris            Rainstorm  \n3        Riesling           St. Julian  \n4      Pinot Noir         Sweet Cheeks  ",
      "text/html": "<div>\n<style scoped>\n    .dataframe tbody tr th:only-of-type {\n        vertical-align: middle;\n    }\n\n    .dataframe tbody tr th {\n        vertical-align: top;\n    }\n\n    .dataframe thead th {\n        text-align: right;\n    }\n</style>\n<table border=\"1\" class=\"dataframe\">\n  <thead>\n    <tr style=\"text-align: right;\">\n      <th></th>\n      <th>country</th>\n      <th>description</th>\n      <th>points</th>\n      <th>price</th>\n      <th>variety</th>\n      <th>winery</th>\n    </tr>\n  </thead>\n  <tbody>\n    <tr>\n      <th>0</th>\n      <td>Italy</td>\n      <td>Aromas include tropical fruit, broom, brimston...</td>\n      <td>87</td>\n      <td>NaN</td>\n      <td>White Blend</td>\n      <td>Nicosia</td>\n    </tr>\n    <tr>\n      <th>1</th>\n      <td>Portugal</td>\n      <td>This is ripe and fruity, a wine that is smooth...</td>\n      <td>87</td>\n      <td>15.0</td>\n      <td>Portuguese Red</td>\n      <td>Quinta dos Avidagos</td>\n    </tr>\n    <tr>\n      <th>2</th>\n      <td>US</td>\n      <td>Tart and snappy, the flavors of lime flesh and...</td>\n      <td>87</td>\n      <td>14.0</td>\n      <td>Pinot Gris</td>\n      <td>Rainstorm</td>\n    </tr>\n    <tr>\n      <th>3</th>\n      <td>US</td>\n      <td>Pineapple rind, lemon pith and orange blossom ...</td>\n      <td>87</td>\n      <td>13.0</td>\n      <td>Riesling</td>\n      <td>St. Julian</td>\n    </tr>\n    <tr>\n      <th>4</th>\n      <td>US</td>\n      <td>Much like the regular bottling from 2012, this...</td>\n      <td>87</td>\n      <td>65.0</td>\n      <td>Pinot Noir</td>\n      <td>Sweet Cheeks</td>\n    </tr>\n  </tbody>\n</table>\n</div>"
     },
     "execution_count": 12,
     "metadata": {},
     "output_type": "execute_result"
    }
   ],
   "source": [
    "df = pd.read_csv('wine-reviews.csv', usecols = ['country', 'description', 'points', 'price' , 'variety', 'winery']) # Read the data only with the columns that we need\n",
    "df.head() # Show the first 5 rows of the data"
   ],
   "metadata": {
    "collapsed": false,
    "ExecuteTime": {
     "end_time": "2024-01-29T17:12:05.126773Z",
     "start_time": "2024-01-29T17:12:04.695609Z"
    }
   },
   "id": "d1a124fe62677263",
   "execution_count": 12
  },
  {
   "cell_type": "code",
   "outputs": [],
   "source": [
    "df = df.dropna(subset = [\"description\", \"points\"]) # Drop the rows with missing values"
   ],
   "metadata": {
    "collapsed": false,
    "ExecuteTime": {
     "end_time": "2024-01-29T17:12:05.138988Z",
     "start_time": "2024-01-29T17:12:05.133361Z"
    }
   },
   "id": "ad29973c42067537",
   "execution_count": 13
  },
  {
   "cell_type": "code",
   "outputs": [
    {
     "data": {
      "text/plain": "<Figure size 640x480 with 1 Axes>",
      "image/png": "[encoded data removed]"
     },
     "metadata": {},
     "output_type": "display_data"
    }
   ],
   "source": [
    "plt.hist(df.points, bins = 20) # Plot the histogram of the points\n",
    "plt.title(\"Histogram of Points\")\n",
    "plt.xlabel(\"Points\")\n",
    "plt.ylabel(\"Frequency\")\n",
    "plt.show()"
   ],
   "metadata": {
    "collapsed": false,
    "ExecuteTime": {
     "end_time": "2024-01-29T17:12:05.213326Z",
     "start_time": "2024-01-29T17:12:05.146867Z"
    }
   },
   "id": "7ba8d386c799a15a",
   "execution_count": 14
  },
  {
   "cell_type": "code",
   "outputs": [],
   "source": [
    "df[\"label\"] = df[\"points\"].apply(lambda x: 1 if x >= 90 else 0) # Create a new column with the label 1 if the points are greater than or equal to 90 and 0 otherwise\n",
    "df = df[[\"description\", \"label\"]] # Keep only the description and the label columns because we will use binary classification"
   ],
   "metadata": {
    "collapsed": false,
    "ExecuteTime": {
     "end_time": "2024-01-29T17:12:30.900602Z",
     "start_time": "2024-01-29T17:12:30.864933Z"
    }
   },
   "id": "f291b3998cb6ab2",
   "execution_count": 17
  },
  {
   "cell_type": "code",
   "outputs": [
    {
     "data": {
      "text/plain": "                                         description  label\n0  Aromas include tropical fruit, broom, brimston...      0\n1  This is ripe and fruity, a wine that is smooth...      0\n2  Tart and snappy, the flavors of lime flesh and...      0\n3  Pineapple rind, lemon pith and orange blossom ...      0\n4  Much like the regular bottling from 2012, this...      0",
      "text/html": "<div>\n<style scoped>\n    .dataframe tbody tr th:only-of-type {\n        vertical-align: middle;\n    }\n\n    .dataframe tbody tr th {\n        vertical-align: top;\n    }\n\n    .dataframe thead th {\n        text-align: right;\n    }\n</style>\n<table border=\"1\" class=\"dataframe\">\n  <thead>\n    <tr style=\"text-align: right;\">\n      <th></th>\n      <th>description</th>\n      <th>label</th>\n    </tr>\n  </thead>\n  <tbody>\n    <tr>\n      <th>0</th>\n      <td>Aromas include tropical fruit, broom, brimston...</td>\n      <td>0</td>\n    </tr>\n    <tr>\n      <th>1</th>\n      <td>This is ripe and fruity, a wine that is smooth...</td>\n      <td>0</td>\n    </tr>\n    <tr>\n      <th>2</th>\n      <td>Tart and snappy, the flavors of lime flesh and...</td>\n      <td>0</td>\n    </tr>\n    <tr>\n      <th>3</th>\n      <td>Pineapple rind, lemon pith and orange blossom ...</td>\n      <td>0</td>\n    </tr>\n    <tr>\n      <th>4</th>\n      <td>Much like the regular bottling from 2012, this...</td>\n      <td>0</td>\n    </tr>\n  </tbody>\n</table>\n</div>"
     },
     "execution_count": 18,
     "metadata": {},
     "output_type": "execute_result"
    }
   ],
   "source": [
    "df.head() # Show the first 5 rows of the data"
   ],
   "metadata": {
    "collapsed": false,
    "ExecuteTime": {
     "end_time": "2024-01-29T17:12:31.398257Z",
     "start_time": "2024-01-29T17:12:31.393030Z"
    }
   },
   "id": "b2583bafd3d8683b",
   "execution_count": 18
  },
  {
   "cell_type": "code",
   "outputs": [],
   "source": [
    "train, val , test = np.split(df.sample(frac=1), [int(.8*len(df)), int(.9*len(df))]) # Split the data into train, validation and test sets with 80%, 10% and 10% of the data respectively"
   ],
   "metadata": {
    "collapsed": false,
    "ExecuteTime": {
     "end_time": "2024-01-29T17:14:55.952712Z",
     "start_time": "2024-01-29T17:14:55.942354Z"
    }
   },
   "id": "5856494bb91dca5d",
   "execution_count": 19
  },
  {
   "cell_type": "code",
   "outputs": [
    {
     "data": {
      "text/plain": "(103976, 12997, 12998)"
     },
     "execution_count": 20,
     "metadata": {},
     "output_type": "execute_result"
    }
   ],
   "source": [
    "len(train), len(val), len(test) # Show the length of the train, validation and test sets"
   ],
   "metadata": {
    "collapsed": false,
    "ExecuteTime": {
     "end_time": "2024-01-29T17:15:00.272790Z",
     "start_time": "2024-01-29T17:15:00.266180Z"
    }
   },
   "id": "e137b2110ffc062d",
   "execution_count": 20
  },
  {
   "cell_type": "code",
   "outputs": [],
   "source": [
    "# function that converts a panda dataframe to a tensorflow dataset\n",
    "def df_to_dataset(dataframe, shuffle=True, batch_size=1024): # Function to convert a dataframe to a dataset\n",
    "  df = dataframe.copy() # avoid modifying the original dataframe\n",
    "  labels = df.pop(\"label\") # Remove the label column from the dataframe\n",
    "  df = df[\"description\"] # Keep only the description column\n",
    "  ds = tf.data.Dataset.from_tensor_slices((df, labels)) # Create a tensorflow dataset\n",
    "  if shuffle: # Shuffle the dataset if needed\n",
    "    ds = ds.shuffle(buffer_size=len(dataframe))\n",
    "  ds = ds.batch(batch_size)  # Batch the dataset\n",
    "  ds = ds.prefetch(tf.data.AUTOTUNE) # automatically tune the number of batches to prefetch based on the current runtime conditions\n",
    "  return ds"
   ],
   "metadata": {
    "collapsed": false,
    "ExecuteTime": {
     "end_time": "2024-01-29T17:49:59.345195Z",
     "start_time": "2024-01-29T17:49:59.338941Z"
    }
   },
   "id": "5850d4ad5b3da1aa",
   "execution_count": 32
  },
  {
   "cell_type": "code",
   "outputs": [],
   "source": [
    "train_data = df_to_dataset(train) # Convert the train dataframe to a tensorflow dataset\n",
    "val_data = df_to_dataset(val) # Convert the validation dataframe to a tensorflow dataset\n",
    "test_data = df_to_dataset(test) # Convert the test dataframe to a tensorflow dataset"
   ],
   "metadata": {
    "collapsed": false,
    "ExecuteTime": {
     "end_time": "2024-01-29T17:50:00.379978Z",
     "start_time": "2024-01-29T17:50:00.330960Z"
    }
   },
   "id": "68df922605325c26",
   "execution_count": 33
  },
  {
   "cell_type": "code",
   "outputs": [],
   "source": [
    "embedding = \"https://www.kaggle.com/models/google/nnlm/frameworks/tensorFlow2/variations/en-dim50/versions/1\" # Load the embedding model\n",
    "hub_layer = hub.KerasLayer(embedding, input_shape=[], dtype=tf.string, trainable=True) # Create a keras layer with the embedding model"
   ],
   "metadata": {
    "collapsed": false,
    "ExecuteTime": {
     "end_time": "2024-01-29T17:50:01.636557Z",
     "start_time": "2024-01-29T17:50:01.268961Z"
    }
   },
   "id": "afaae409c8ed51ab",
   "execution_count": 34
  },
  {
   "cell_type": "code",
   "outputs": [
    {
     "data": {
      "text/plain": "<tf.Tensor: shape=(1024, 50), dtype=float32, numpy=\narray([[ 0.3661005 , -0.04464634,  0.00561695, ..., -0.11749372,\n        -0.2354176 ,  0.10122002],\n       [ 0.3854938 , -0.48512292, -0.24963953, ...,  0.10279011,\n        -0.27244538, -0.15052125],\n       [ 0.24046785, -0.24074158,  0.14304811, ...,  0.19854642,\n        -0.11351566,  0.0336073 ],\n       ...,\n       [ 0.41055018, -0.03383618,  0.00493392, ..., -0.1228281 ,\n        -0.1860729 ,  0.01930945],\n       [ 0.26823324, -0.05206691,  0.17935418, ..., -0.1371465 ,\n        -0.2682591 , -0.17126672],\n       [ 0.36976773, -0.20759118,  0.20550525, ..., -0.01169562,\n        -0.15375045,  0.1673407 ]], dtype=float32)>"
     },
     "execution_count": 35,
     "metadata": {},
     "output_type": "execute_result"
    }
   ],
   "source": [
    "hub_layer(list(train_data)[0][0]) # Show the output of the embedding layer for the first batch of the train data"
   ],
   "metadata": {
    "collapsed": false,
    "ExecuteTime": {
     "end_time": "2024-01-29T17:50:03.316085Z",
     "start_time": "2024-01-29T17:50:03.086590Z"
    }
   },
   "id": "da3a48726d6d296a",
   "execution_count": 35
  },
  {
   "cell_type": "code",
   "outputs": [],
   "source": [
    "model = tf.keras.Sequential() # Create a sequential model\n",
    "model.add(hub_layer)\n",
    "model.add(tf.keras.layers.Dense(16, activation='relu',kernel_regularizer=tf.keras.regularizers.l2(0.01)))\n",
    "model.add(tf.keras.layers.Dropout(0.4)) # Add a dropout layer to avoid overfitting\n",
    "model.add(tf.keras.layers.Dense(16, activation='relu',kernel_regularizer=tf.keras.regularizers.l2(0.01)))\n",
    "model.add(tf.keras.layers.Dropout(0.4)) # Add a dropout layer to avoid overfitting\n",
    "model.add(tf.keras.layers.Dense(1, activation='sigmoid'))"
   ],
   "metadata": {
    "collapsed": false,
    "ExecuteTime": {
     "end_time": "2024-01-29T18:07:47.558216Z",
     "start_time": "2024-01-29T18:07:47.532838Z"
    }
   },
   "id": "f64704e4498012b5",
   "execution_count": 62
  },
  {
   "cell_type": "code",
   "outputs": [],
   "source": [
    "model.compile(\n",
    "    optimizer = tf.keras.optimizers.legacy.Adam(learning_rate=0.001), # gradient descent algorithm\n",
    "    loss =  tf.keras.losses.BinaryCrossentropy(), # loss function\n",
    "    metrics = ['accuracy']\n",
    ")"
   ],
   "metadata": {
    "collapsed": false,
    "ExecuteTime": {
     "end_time": "2024-01-29T18:07:47.920925Z",
     "start_time": "2024-01-29T18:07:47.919814Z"
    }
   },
   "id": "893076ec57f3885a",
   "execution_count": 63
  },
  {
   "cell_type": "code",
   "outputs": [
    {
     "name": "stdout",
     "output_type": "stream",
     "text": [
      "102/102 [==============================] - 2s 22ms/step - loss: 1.0984 - accuracy: 0.5365\n"
     ]
    },
    {
     "data": {
      "text/plain": "[1.0983917713165283, 0.5364795923233032]"
     },
     "execution_count": 64,
     "metadata": {},
     "output_type": "execute_result"
    }
   ],
   "source": [
    "model.evaluate(train_data) # Evaluate the model on the test data"
   ],
   "metadata": {
    "collapsed": false,
    "ExecuteTime": {
     "end_time": "2024-01-29T18:07:50.895334Z",
     "start_time": "2024-01-29T18:07:48.497674Z"
    }
   },
   "id": "8aae0d3f99f7d4cc",
   "execution_count": 64
  },
  {
   "cell_type": "code",
   "outputs": [
    {
     "name": "stdout",
     "output_type": "stream",
     "text": [
      "13/13 [==============================] - 0s 22ms/step - loss: 1.1003 - accuracy: 0.5217\n"
     ]
    },
    {
     "data": {
      "text/plain": "[1.1003040075302124, 0.5217357873916626]"
     },
     "execution_count": 65,
     "metadata": {},
     "output_type": "execute_result"
    }
   ],
   "source": [
    "model.evaluate(val_data) # Evaluate the model on the validation data"
   ],
   "metadata": {
    "collapsed": false,
    "ExecuteTime": {
     "end_time": "2024-01-29T18:07:51.183559Z",
     "start_time": "2024-01-29T18:07:50.894022Z"
    }
   },
   "id": "2baad1377afc867b",
   "execution_count": 65
  },
  {
   "cell_type": "code",
   "outputs": [
    {
     "name": "stdout",
     "output_type": "stream",
     "text": [
      "Epoch 1/5\n",
      "102/102 [==============================] - 17s 159ms/step - loss: 0.8517 - accuracy: 0.7257 - val_loss: 0.6404 - val_accuracy: 0.8239\n",
      "Epoch 2/5\n",
      "102/102 [==============================] - 16s 157ms/step - loss: 0.5578 - accuracy: 0.8438 - val_loss: 0.5142 - val_accuracy: 0.8280\n",
      "Epoch 3/5\n",
      "102/102 [==============================] - 16s 156ms/step - loss: 0.4465 - accuracy: 0.8651 - val_loss: 0.4639 - val_accuracy: 0.8284\n",
      "Epoch 4/5\n",
      "102/102 [==============================] - 16s 157ms/step - loss: 0.3963 - accuracy: 0.8743 - val_loss: 0.4457 - val_accuracy: 0.8290\n",
      "Epoch 5/5\n",
      "102/102 [==============================] - 16s 157ms/step - loss: 0.3686 - accuracy: 0.8798 - val_loss: 0.4390 - val_accuracy: 0.8291\n"
     ]
    }
   ],
   "source": [
    "history = model.fit(\n",
    "    train_data,\n",
    "    validation_data = val_data,\n",
    "    epochs = 5\n",
    ")"
   ],
   "metadata": {
    "collapsed": false,
    "ExecuteTime": {
     "end_time": "2024-01-29T18:09:13.497766Z",
     "start_time": "2024-01-29T18:07:52.717914Z"
    }
   },
   "id": "a84a5b3984f7f363",
   "execution_count": 66
  },
  {
   "cell_type": "code",
   "outputs": [
    {
     "data": {
      "text/plain": "<Figure size 640x480 with 1 Axes>",
      "image/png": "[encoded data removed]"
     },
     "metadata": {},
     "output_type": "display_data"
    }
   ],
   "source": [
    "plt.plot(history.history['accuracy'], label='accuracy') # Plot the accuracy of the model on the train data\n",
    "plt.plot(history.history['val_accuracy'], label = 'val_accuracy') # Plot the accuracy of the model on the validation data\n",
    "plt.title('Accuracy of the model')\n",
    "plt.xlabel('Epoch')\n",
    "plt.ylabel('Accuracy') \n",
    "plt.legend()\n",
    "plt.show()"
   ],
   "metadata": {
    "collapsed": false,
    "ExecuteTime": {
     "end_time": "2024-01-29T18:09:24.735872Z",
     "start_time": "2024-01-29T18:09:24.668751Z"
    }
   },
   "id": "6bdcdb7f01c78be3",
   "execution_count": 67
  },
  {
   "cell_type": "code",
   "outputs": [
    {
     "data": {
      "text/plain": "<Figure size 640x480 with 1 Axes>",
      "image/png": "[encoded data removed]"
     },
     "metadata": {},
     "output_type": "display_data"
    }
   ],
   "source": [
    "plt.plot(history.history['loss'], label='loss') # Plot the accuracy of the model on the train data\n",
    "plt.plot(history.history['val_loss'], label = 'val_loss') # Plot the accuracy of the model on the validation data\n",
    "plt.title('Loss of the model')\n",
    "plt.xlabel('Epoch')\n",
    "plt.ylabel('Loss')\n",
    "plt.legend()\n",
    "plt.show()"
   ],
   "metadata": {
    "collapsed": false,
    "ExecuteTime": {
     "end_time": "2024-01-29T18:09:26.443760Z",
     "start_time": "2024-01-29T18:09:26.388455Z"
    }
   },
   "id": "67ce917a992d6536",
   "execution_count": 68
  },
  {
   "cell_type": "code",
   "outputs": [
    {
     "name": "stdout",
     "output_type": "stream",
     "text": [
      "13/13 [==============================] - 0s 21ms/step - loss: 0.4463 - accuracy: 0.8271\n"
     ]
    },
    {
     "data": {
      "text/plain": "[0.44632744789123535, 0.8271272778511047]"
     },
     "execution_count": 69,
     "metadata": {},
     "output_type": "execute_result"
    }
   ],
   "source": [
    "model.evaluate(test_data) # Evaluate the model on the test data"
   ],
   "metadata": {
    "collapsed": false,
    "ExecuteTime": {
     "end_time": "2024-01-29T18:09:30.571901Z",
     "start_time": "2024-01-29T18:09:30.285337Z"
    }
   },
   "id": "f7a0f1ca09bcd9f4",
   "execution_count": 69
  },
  {
   "cell_type": "code",
   "outputs": [],
   "source": [
    "# LSTM MODEL\n",
    "encoder = tf.keras.layers.TextVectorization(max_tokens=2000)\n",
    "encoder.adapt(train_data.map(lambda text, label: text))"
   ],
   "metadata": {
    "collapsed": false,
    "ExecuteTime": {
     "end_time": "2024-01-29T18:12:44.458897Z",
     "start_time": "2024-01-29T18:12:43.608489Z"
    }
   },
   "id": "39041f3110600779",
   "execution_count": 70
  },
  {
   "cell_type": "code",
   "outputs": [
    {
     "data": {
      "text/plain": "array(['', '[UNK]', 'and', 'the', 'a', 'of', 'with', 'this', 'is', 'wine',\n       'flavors', 'in', 'it', 'to', 'its', 'on', 'fruit', 'aromas',\n       'palate', 'that'], dtype='<U17')"
     },
     "execution_count": 71,
     "metadata": {},
     "output_type": "execute_result"
    }
   ],
   "source": [
    "vocab = np.array(encoder.get_vocabulary())\n",
    "vocab[:20]"
   ],
   "metadata": {
    "collapsed": false,
    "ExecuteTime": {
     "end_time": "2024-01-29T18:12:55.984267Z",
     "start_time": "2024-01-29T18:12:55.975327Z"
    }
   },
   "id": "f1428c418fcda48e",
   "execution_count": 71
  },
  {
   "cell_type": "code",
   "outputs": [],
   "source": [
    "model2 = tf.keras.Sequential([\n",
    "    encoder,\n",
    "    tf.keras.layers.Embedding(\n",
    "        input_dim=len(encoder.get_vocabulary()),\n",
    "        output_dim=32,\n",
    "        # Use masking to handle the variable sequence lengths\n",
    "        mask_zero=True),\n",
    "    tf.keras.layers.LSTM(32),\n",
    "    tf.keras.layers.Dense(32, activation='relu'),\n",
    "    tf.keras.layers.Dropout(0.4),\n",
    "    tf.keras.layers.Dense(1, activation='sigmoid')\n",
    "])"
   ],
   "metadata": {
    "collapsed": false,
    "ExecuteTime": {
     "end_time": "2024-01-29T18:14:32.926539Z",
     "start_time": "2024-01-29T18:14:32.660351Z"
    }
   },
   "id": "36a3962a6797053d",
   "execution_count": 73
  },
  {
   "cell_type": "code",
   "outputs": [],
   "source": [
    "model2.compile(\n",
    "    optimizer = tf.keras.optimizers.legacy.Adam(learning_rate=0.001), # gradient descent algorithm\n",
    "    loss =  tf.keras.losses.BinaryCrossentropy(), # loss function\n",
    "    metrics = ['accuracy']\n",
    ")"
   ],
   "metadata": {
    "collapsed": false,
    "ExecuteTime": {
     "end_time": "2024-01-29T18:14:34.293972Z",
     "start_time": "2024-01-29T18:14:34.280141Z"
    }
   },
   "id": "873918e933953bc7",
   "execution_count": 74
  },
  {
   "cell_type": "code",
   "outputs": [
    {
     "name": "stdout",
     "output_type": "stream",
     "text": [
      "102/102 [==============================] - 10s 94ms/step - loss: 0.6932 - accuracy: 0.4913\n"
     ]
    },
    {
     "data": {
      "text/plain": "[0.6931723356246948, 0.4913153052330017]"
     },
     "execution_count": 75,
     "metadata": {},
     "output_type": "execute_result"
    }
   ],
   "source": [
    "model2.evaluate(train_data) # Evaluate the model on the test data"
   ],
   "metadata": {
    "collapsed": false,
    "ExecuteTime": {
     "end_time": "2024-01-29T18:15:00.739013Z",
     "start_time": "2024-01-29T18:14:50.334944Z"
    }
   },
   "id": "8b16bc3fb8557c46",
   "execution_count": 75
  },
  {
   "cell_type": "code",
   "outputs": [
    {
     "name": "stdout",
     "output_type": "stream",
     "text": [
      "13/13 [==============================] - 1s 88ms/step - loss: 0.6932 - accuracy: 0.4887\n"
     ]
    },
    {
     "data": {
      "text/plain": "[0.693193793296814, 0.48865121603012085]"
     },
     "execution_count": 76,
     "metadata": {},
     "output_type": "execute_result"
    }
   ],
   "source": [
    "model2.evaluate(val_data) # Evaluate the model on the validation data"
   ],
   "metadata": {
    "collapsed": false,
    "ExecuteTime": {
     "end_time": "2024-01-29T18:15:03.446910Z",
     "start_time": "2024-01-29T18:15:02.272337Z"
    }
   },
   "id": "88297c85651443d",
   "execution_count": 76
  },
  {
   "cell_type": "code",
   "outputs": [
    {
     "name": "stdout",
     "output_type": "stream",
     "text": [
      "Epoch 1/5\n",
      "102/102 [==============================] - 28s 259ms/step - loss: 0.5449 - accuracy: 0.7138 - val_loss: 0.3867 - val_accuracy: 0.8178\n",
      "Epoch 2/5\n",
      "102/102 [==============================] - 28s 277ms/step - loss: 0.3704 - accuracy: 0.8358 - val_loss: 0.3588 - val_accuracy: 0.8327\n",
      "Epoch 3/5\n",
      "102/102 [==============================] - 28s 277ms/step - loss: 0.3527 - accuracy: 0.8432 - val_loss: 0.3592 - val_accuracy: 0.8343\n",
      "Epoch 4/5\n",
      "102/102 [==============================] - 30s 290ms/step - loss: 0.3421 - accuracy: 0.8487 - val_loss: 0.3540 - val_accuracy: 0.8347\n",
      "Epoch 5/5\n",
      "102/102 [==============================] - 29s 281ms/step - loss: 0.3379 - accuracy: 0.8497 - val_loss: 0.3516 - val_accuracy: 0.8363\n"
     ]
    },
    {
     "data": {
      "text/plain": "<keras.src.callbacks.History at 0x2c5021050>"
     },
     "execution_count": 77,
     "metadata": {},
     "output_type": "execute_result"
    }
   ],
   "source": [
    "model2.fit(\n",
    "    train_data,\n",
    "    validation_data = val_data,\n",
    "    epochs = 5\n",
    ")"
   ],
   "metadata": {
    "collapsed": false,
    "ExecuteTime": {
     "end_time": "2024-01-29T18:17:35.337003Z",
     "start_time": "2024-01-29T18:15:12.728422Z"
    }
   },
   "id": "ce50a4a6ea29e4d",
   "execution_count": 77
  },
  {
   "cell_type": "code",
   "outputs": [
    {
     "name": "stdout",
     "output_type": "stream",
     "text": [
      "13/13 [==============================] - 1s 96ms/step - loss: 0.3483 - accuracy: 0.8402\n"
     ]
    },
    {
     "data": {
      "text/plain": "[0.34826648235321045, 0.8402062058448792]"
     },
     "execution_count": 78,
     "metadata": {},
     "output_type": "execute_result"
    }
   ],
   "source": [
    "model2.evaluate(test_data) # Evaluate the model on the test data"
   ],
   "metadata": {
    "collapsed": false,
    "ExecuteTime": {
     "end_time": "2024-01-29T18:17:52.553010Z",
     "start_time": "2024-01-29T18:17:51.275933Z"
    }
   },
   "id": "7304b8637b7879f3",
   "execution_count": 78
  },
  {
   "cell_type": "code",
   "outputs": [],
   "source": [],
   "metadata": {
    "collapsed": false
   },
   "id": "22b948f58efe445a"
  }
 ],
 "metadata": {
  "kernelspec": {
   "display_name": "Python 3",
   "language": "python",
   "name": "python3"
  },
  "language_info": {
   "codemirror_mode": {
    "name": "ipython",
    "version": 2
   },
   "file_extension": ".py",
   "mimetype": "text/x-python",
   "name": "python",
   "nbconvert_exporter": "python",
   "pygments_lexer": "ipython2",
   "version": "2.7.6"
  }
 },
 "nbformat": 4,
 "nbformat_minor": 5
}
